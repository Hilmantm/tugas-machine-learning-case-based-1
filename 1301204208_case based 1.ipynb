{
 "cells": [
  {
   "cell_type": "markdown",
   "metadata": {},
   "source": [
    "# Machine Learning Case Based 1\n",
    "By Hilman Taris Muttaqin - 1301204208 - IF4408"
   ]
  },
  {
   "cell_type": "markdown",
   "metadata": {},
   "source": [
    "## Pre-processing Data\n",
    "Data yang digunakan ada pada [link ini](https://archive.ics.uci.edu/ml/machine-learning-databases/arrhythmia/).\n",
    "Langkah-langkah yang dilakukan untuk mempersiapkan data adalah melihat kualitas data seperti cek nama dan data pada setiap kolom, identifikasi targe/label/output, dan lihat data yang hilang."
   ]
  },
  {
   "cell_type": "markdown",
   "metadata": {},
   "source": [
    "### Import library yang akan digunakan"
   ]
  },
  {
   "cell_type": "code",
   "execution_count": null,
   "metadata": {},
   "outputs": [],
   "source": [
    "import pandas as pd\n",
    "import matplotlib.pyplot as plt\n",
    "import numpy as np\n",
    "import seabord as sns\n",
    "import tensorflow as tf\n",
    "from sklearn.model_selection import train_test_split"
   ]
  }
 ],
 "metadata": {
  "kernelspec": {
   "display_name": "Python 3.10.7 64-bit",
   "language": "python",
   "name": "python3"
  },
  "language_info": {
   "name": "python",
   "version": "3.10.7"
  },
  "orig_nbformat": 4,
  "vscode": {
   "interpreter": {
    "hash": "e70059181f8db3cadfe59471faa5f5e72139c29825c0acf809fbacef2aee5a56"
   }
  }
 },
 "nbformat": 4,
 "nbformat_minor": 2
}
